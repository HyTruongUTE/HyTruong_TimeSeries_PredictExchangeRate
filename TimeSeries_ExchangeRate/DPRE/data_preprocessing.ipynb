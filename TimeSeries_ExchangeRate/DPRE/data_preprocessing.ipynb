{
 "cells": [
  {
   "cell_type": "code",
   "execution_count": 1,
   "metadata": {},
   "outputs": [],
   "source": [
    "import pandas as pd"
   ]
  },
  {
   "cell_type": "code",
   "execution_count": 2,
   "metadata": {},
   "outputs": [],
   "source": [
    "df = pd.read_csv(\"./vietnam_exchange_rate.csv\")"
   ]
  },
  {
   "cell_type": "code",
   "execution_count": 3,
   "metadata": {},
   "outputs": [
    {
     "data": {
      "text/html": [
       "<div>\n",
       "<style scoped>\n",
       "    .dataframe tbody tr th:only-of-type {\n",
       "        vertical-align: middle;\n",
       "    }\n",
       "\n",
       "    .dataframe tbody tr th {\n",
       "        vertical-align: top;\n",
       "    }\n",
       "\n",
       "    .dataframe thead th {\n",
       "        text-align: right;\n",
       "    }\n",
       "</style>\n",
       "<table border=\"1\" class=\"dataframe\">\n",
       "  <thead>\n",
       "    <tr style=\"text-align: right;\">\n",
       "      <th></th>\n",
       "      <th>ngay</th>\n",
       "      <th>ma_ngoai_te</th>\n",
       "      <th>ten_ngoai_te</th>\n",
       "      <th>mua_tien_mat</th>\n",
       "      <th>mua_chuyen_khoan</th>\n",
       "      <th>ban</th>\n",
       "    </tr>\n",
       "  </thead>\n",
       "  <tbody>\n",
       "    <tr>\n",
       "      <th>0</th>\n",
       "      <td>2/1/2020</td>\n",
       "      <td>USD</td>\n",
       "      <td>US DOLLAR</td>\n",
       "      <td>23135</td>\n",
       "      <td>23165.00</td>\n",
       "      <td>23305.00</td>\n",
       "    </tr>\n",
       "    <tr>\n",
       "      <th>1</th>\n",
       "      <td>2/1/2020</td>\n",
       "      <td>EUR</td>\n",
       "      <td>EURO</td>\n",
       "      <td>25092.31</td>\n",
       "      <td>25345.77</td>\n",
       "      <td>26238.80</td>\n",
       "    </tr>\n",
       "    <tr>\n",
       "      <th>2</th>\n",
       "      <td>2/1/2020</td>\n",
       "      <td>GBP</td>\n",
       "      <td>POUND STERLING</td>\n",
       "      <td>29969.49</td>\n",
       "      <td>30272.21</td>\n",
       "      <td>30602.78</td>\n",
       "    </tr>\n",
       "    <tr>\n",
       "      <th>3</th>\n",
       "      <td>2/1/2020</td>\n",
       "      <td>JPY</td>\n",
       "      <td>YEN</td>\n",
       "      <td>206.01</td>\n",
       "      <td>208.09</td>\n",
       "      <td>215.42</td>\n",
       "    </tr>\n",
       "    <tr>\n",
       "      <th>4</th>\n",
       "      <td>2/1/2020</td>\n",
       "      <td>AUD</td>\n",
       "      <td>AUSTRALIAN DOLLAR</td>\n",
       "      <td>15283.98</td>\n",
       "      <td>15438.36</td>\n",
       "      <td>15763.80</td>\n",
       "    </tr>\n",
       "  </tbody>\n",
       "</table>\n",
       "</div>"
      ],
      "text/plain": [
       "       ngay ma_ngoai_te       ten_ngoai_te mua_tien_mat  mua_chuyen_khoan  \\\n",
       "0  2/1/2020         USD          US DOLLAR        23135          23165.00   \n",
       "1  2/1/2020         EUR               EURO     25092.31          25345.77   \n",
       "2  2/1/2020         GBP     POUND STERLING     29969.49          30272.21   \n",
       "3  2/1/2020         JPY                YEN       206.01            208.09   \n",
       "4  2/1/2020         AUD  AUSTRALIAN DOLLAR     15283.98          15438.36   \n",
       "\n",
       "        ban  \n",
       "0  23305.00  \n",
       "1  26238.80  \n",
       "2  30602.78  \n",
       "3    215.42  \n",
       "4  15763.80  "
      ]
     },
     "execution_count": 3,
     "metadata": {},
     "output_type": "execute_result"
    }
   ],
   "source": [
    "df.head()"
   ]
  },
  {
   "cell_type": "code",
   "execution_count": 4,
   "metadata": {},
   "outputs": [
    {
     "name": "stdout",
     "output_type": "stream",
     "text": [
      "<class 'pandas.core.frame.DataFrame'>\n",
      "RangeIndex: 37882 entries, 0 to 37881\n",
      "Data columns (total 6 columns):\n",
      " #   Column            Non-Null Count  Dtype  \n",
      "---  ------            --------------  -----  \n",
      " 0   ngay              37882 non-null  object \n",
      " 1   ma_ngoai_te       37882 non-null  object \n",
      " 2   ten_ngoai_te      37882 non-null  object \n",
      " 3   mua_tien_mat      37882 non-null  object \n",
      " 4   mua_chuyen_khoan  37882 non-null  float64\n",
      " 5   ban               37882 non-null  float64\n",
      "dtypes: float64(2), object(4)\n",
      "memory usage: 1.7+ MB\n"
     ]
    }
   ],
   "source": [
    "df.info()"
   ]
  },
  {
   "cell_type": "code",
   "execution_count": 5,
   "metadata": {},
   "outputs": [],
   "source": [
    "#Thay thế các giá trị \"-\" bằng NaN\n",
    "df.replace(\"-\", pd.NA, inplace=True)"
   ]
  },
  {
   "cell_type": "code",
   "execution_count": 6,
   "metadata": {},
   "outputs": [
    {
     "data": {
      "text/plain": [
       "ngay                    0\n",
       "ma_ngoai_te             0\n",
       "ten_ngoai_te            0\n",
       "mua_tien_mat        15152\n",
       "mua_chuyen_khoan        0\n",
       "ban                     0\n",
       "dtype: int64"
      ]
     },
     "execution_count": 6,
     "metadata": {},
     "output_type": "execute_result"
    }
   ],
   "source": [
    "df.isnull().sum()"
   ]
  },
  {
   "cell_type": "code",
   "execution_count": 7,
   "metadata": {},
   "outputs": [],
   "source": [
    "#Chuyển cột ngày theo kiểu datetime dd/mm/yyyy\n",
    "\n",
    "df['ngay'] = pd.to_datetime(df['ngay'], format='%m/%d/%Y', errors='coerce')\n",
    "df['ngay'] = pd.to_datetime(df['ngay'], format='%d/%m/%Y', errors='coerce')\n",
    "\n",
    "#Sắp xếp lại thứ tự ngày tăng dần\n",
    "df.sort_values(by='ngay', ascending=True, inplace=True)\n",
    "\n",
    "#Chuyển các cột số sang kiểu float\n",
    "df['mua_tien_mat'] = pd.to_numeric(df['mua_tien_mat'], errors='coerce')\n",
    "df['mua_chuyen_khoan'] = pd.to_numeric(df['mua_chuyen_khoan'], errors='coerce')\n",
    "df['ban'] = pd.to_numeric(df['ban'], errors='coerce')"
   ]
  },
  {
   "cell_type": "code",
   "execution_count": 8,
   "metadata": {},
   "outputs": [
    {
     "name": "stdout",
     "output_type": "stream",
     "text": [
      "<class 'pandas.core.frame.DataFrame'>\n",
      "Index: 37882 entries, 0 to 37881\n",
      "Data columns (total 6 columns):\n",
      " #   Column            Non-Null Count  Dtype         \n",
      "---  ------            --------------  -----         \n",
      " 0   ngay              37722 non-null  datetime64[ns]\n",
      " 1   ma_ngoai_te       37882 non-null  object        \n",
      " 2   ten_ngoai_te      37882 non-null  object        \n",
      " 3   mua_tien_mat      22730 non-null  float64       \n",
      " 4   mua_chuyen_khoan  37882 non-null  float64       \n",
      " 5   ban               37882 non-null  float64       \n",
      "dtypes: datetime64[ns](1), float64(3), object(2)\n",
      "memory usage: 2.0+ MB\n"
     ]
    }
   ],
   "source": [
    "df.info()"
   ]
  },
  {
   "cell_type": "code",
   "execution_count": 9,
   "metadata": {},
   "outputs": [],
   "source": [
    "# Lọc các DataFrame riêng biệt cho mỗi loại tiền tệ\n",
    "df_usd = df[df['ma_ngoai_te'] == 'USD']\n",
    "df_euro = df[df['ma_ngoai_te'] == 'EUR']\n",
    "df_jpy = df[df['ma_ngoai_te'] == 'JPY']\n",
    "df_aud = df[df['ma_ngoai_te'] == 'AUD']\n",
    "df_gbp = df[df['ma_ngoai_te'] == 'GBP']"
   ]
  },
  {
   "cell_type": "code",
   "execution_count": 10,
   "metadata": {},
   "outputs": [
    {
     "name": "stdout",
     "output_type": "stream",
     "text": [
      "<class 'pandas.core.frame.DataFrame'>\n",
      "Index: 1896 entries, 0 to 37862\n",
      "Data columns (total 6 columns):\n",
      " #   Column            Non-Null Count  Dtype         \n",
      "---  ------            --------------  -----         \n",
      " 0   ngay              1888 non-null   datetime64[ns]\n",
      " 1   ma_ngoai_te       1896 non-null   object        \n",
      " 2   ten_ngoai_te      1896 non-null   object        \n",
      " 3   mua_tien_mat      1896 non-null   float64       \n",
      " 4   mua_chuyen_khoan  1896 non-null   float64       \n",
      " 5   ban               1896 non-null   float64       \n",
      "dtypes: datetime64[ns](1), float64(3), object(2)\n",
      "memory usage: 103.7+ KB\n"
     ]
    }
   ],
   "source": [
    "df_usd.info()"
   ]
  },
  {
   "cell_type": "code",
   "execution_count": 11,
   "metadata": {},
   "outputs": [
    {
     "name": "stdout",
     "output_type": "stream",
     "text": [
      "<class 'pandas.core.frame.DataFrame'>\n",
      "Index: 1894 entries, 1 to 37863\n",
      "Data columns (total 6 columns):\n",
      " #   Column            Non-Null Count  Dtype         \n",
      "---  ------            --------------  -----         \n",
      " 0   ngay              1886 non-null   datetime64[ns]\n",
      " 1   ma_ngoai_te       1894 non-null   object        \n",
      " 2   ten_ngoai_te      1894 non-null   object        \n",
      " 3   mua_tien_mat      1894 non-null   float64       \n",
      " 4   mua_chuyen_khoan  1894 non-null   float64       \n",
      " 5   ban               1894 non-null   float64       \n",
      "dtypes: datetime64[ns](1), float64(3), object(2)\n",
      "memory usage: 103.6+ KB\n"
     ]
    }
   ],
   "source": [
    "df_euro.info()"
   ]
  },
  {
   "cell_type": "code",
   "execution_count": 12,
   "metadata": {},
   "outputs": [
    {
     "name": "stdout",
     "output_type": "stream",
     "text": [
      "<class 'pandas.core.frame.DataFrame'>\n",
      "Index: 1894 entries, 3 to 37865\n",
      "Data columns (total 6 columns):\n",
      " #   Column            Non-Null Count  Dtype         \n",
      "---  ------            --------------  -----         \n",
      " 0   ngay              1886 non-null   datetime64[ns]\n",
      " 1   ma_ngoai_te       1894 non-null   object        \n",
      " 2   ten_ngoai_te      1894 non-null   object        \n",
      " 3   mua_tien_mat      1894 non-null   float64       \n",
      " 4   mua_chuyen_khoan  1894 non-null   float64       \n",
      " 5   ban               1894 non-null   float64       \n",
      "dtypes: datetime64[ns](1), float64(3), object(2)\n",
      "memory usage: 103.6+ KB\n"
     ]
    }
   ],
   "source": [
    "df_jpy.info()"
   ]
  },
  {
   "cell_type": "code",
   "execution_count": 13,
   "metadata": {},
   "outputs": [
    {
     "name": "stdout",
     "output_type": "stream",
     "text": [
      "<class 'pandas.core.frame.DataFrame'>\n",
      "Index: 1894 entries, 4 to 37866\n",
      "Data columns (total 6 columns):\n",
      " #   Column            Non-Null Count  Dtype         \n",
      "---  ------            --------------  -----         \n",
      " 0   ngay              1886 non-null   datetime64[ns]\n",
      " 1   ma_ngoai_te       1894 non-null   object        \n",
      " 2   ten_ngoai_te      1894 non-null   object        \n",
      " 3   mua_tien_mat      1894 non-null   float64       \n",
      " 4   mua_chuyen_khoan  1894 non-null   float64       \n",
      " 5   ban               1894 non-null   float64       \n",
      "dtypes: datetime64[ns](1), float64(3), object(2)\n",
      "memory usage: 103.6+ KB\n"
     ]
    }
   ],
   "source": [
    "df_aud.info()"
   ]
  },
  {
   "cell_type": "code",
   "execution_count": 14,
   "metadata": {},
   "outputs": [
    {
     "name": "stdout",
     "output_type": "stream",
     "text": [
      "<class 'pandas.core.frame.DataFrame'>\n",
      "Index: 1894 entries, 2 to 37864\n",
      "Data columns (total 6 columns):\n",
      " #   Column            Non-Null Count  Dtype         \n",
      "---  ------            --------------  -----         \n",
      " 0   ngay              1886 non-null   datetime64[ns]\n",
      " 1   ma_ngoai_te       1894 non-null   object        \n",
      " 2   ten_ngoai_te      1894 non-null   object        \n",
      " 3   mua_tien_mat      1894 non-null   float64       \n",
      " 4   mua_chuyen_khoan  1894 non-null   float64       \n",
      " 5   ban               1894 non-null   float64       \n",
      "dtypes: datetime64[ns](1), float64(3), object(2)\n",
      "memory usage: 103.6+ KB\n"
     ]
    }
   ],
   "source": [
    "df_gbp.info()"
   ]
  },
  {
   "cell_type": "code",
   "execution_count": 15,
   "metadata": {},
   "outputs": [],
   "source": [
    "df_usd.to_csv(\"./data_clean/usd_rates.csv\", index=False)\n",
    "df_euro.to_csv(\"./data_clean/euro_rates.csv\", index=False)\n",
    "df_gbp.to_csv(\"./data_clean/gbp_rates.csv\", index=False)\n",
    "df_jpy.to_csv(\"./data_clean/jpy_rates.csv\", index=False)\n",
    "df_aud.to_csv(\"./data_clean/aud_rates.csv\", index=False)"
   ]
  }
 ],
 "metadata": {
  "kernelspec": {
   "display_name": "Python 3",
   "language": "python",
   "name": "python3"
  },
  "language_info": {
   "codemirror_mode": {
    "name": "ipython",
    "version": 3
   },
   "file_extension": ".py",
   "mimetype": "text/x-python",
   "name": "python",
   "nbconvert_exporter": "python",
   "pygments_lexer": "ipython3",
   "version": "3.9.0"
  }
 },
 "nbformat": 4,
 "nbformat_minor": 2
}
